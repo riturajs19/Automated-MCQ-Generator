{
  "cells": [
    {
      "cell_type": "markdown",
      "metadata": {
        "colab_type": "text",
        "id": "view-in-github"
      },
      "source": [
        "<a href=\"https://colab.research.google.com/github/riturajs19/Automated-MCQ-Generator/blob/main/MCQ_Generator.ipynb\" target=\"_parent\"><img src=\"https://colab.research.google.com/assets/colab-badge.svg\" alt=\"Open In Colab\"/></a>"
      ]
    },
    {
      "cell_type": "code",
      "execution_count": null,
      "metadata": {
        "id": "TsrCuGKdy3EK"
      },
      "outputs": [],
      "source": []
    },
    {
      "cell_type": "code",
      "execution_count": null,
      "metadata": {
        "id": "qVhkgLlkxHAD"
      },
      "outputs": [],
      "source": [
        "import pandas as pd\n",
        "import spacy\n",
        "import random\n",
        "from collections import Counter"
      ]
    },
    {
      "cell_type": "code",
      "execution_count": null,
      "metadata": {
        "id": "nuu7ucFIxWmp"
      },
      "outputs": [],
      "source": [
        "### Now we will provide sentence\n",
        "text = '''\n",
        "India achieved freedom from British colonial rule on 15 August 1947, marking the end of centuries of foreign domination and the beginning of a democratic\n",
        "republic. The extraction of sovereignty was the result of a prolonged freedom struggle, involving diverse efforts from nonviolent protest to political\n",
        "negotiation and was underpinned by the vision and determination of leaders from across India’s social spectrum. Within this milieu, Dr B. R. Ambedkar\n",
        "emerged as a prominent figure advocating not just independence but also social equity and constitutional rights for all citizens. Born into a socially\n",
        "marginalized community, Ambedkar dedicated his scholarship and political career to forging a pluralistic nation grounded in equality. Post independence,\n",
        "he was appointed the first Law Minister of India and chaired the Drafting Committee of the Constituent Assembly. This position enabled him to transform the\n",
        "ideals of the freedom movement into functional governance mechanisms within the new Constitution. A central feature of the Constitution was the safeguarding of Fundamental Rights, including freedom of speech, religion, and assembly, alongside guarantees\n",
        "of equality before the law and abolition of untouchability . Drawing inspiration from Western constitutional models like the US Bill of Rights and Britain's\n",
        "Bill of Rights, the Constituent Assembly under Ambedkar ensured that civil liberties would stand at the heart of Indian democracy. Importantly, the\n",
        "Constitution also defined Directive Principles of State Policy, affirming the necessity of socio-economic justice and welfare-oriented governance a vision\n",
        "deeply tied to the objectives of the independence struggle.\n",
        "'''\n",
        "\n",
        "num_questions = 5"
      ]
    },
    {
      "cell_type": "code",
      "execution_count": null,
      "metadata": {
        "id": "VcRg_9Ljys-P"
      },
      "outputs": [],
      "source": [
        "## It is full pack which provides every required feature\n",
        "nlp = spacy.load('en_core_web_sm')"
      ]
    },
    {
      "cell_type": "code",
      "execution_count": null,
      "metadata": {
        "colab": {
          "base_uri": "https://localhost:8080/"
        },
        "id": "_aOaW3ux0R8v",
        "outputId": "410b339a-27e3-49f6-ecb8-9c466df6e5dc"
      },
      "outputs": [
        {
          "data": {
            "text/plain": [
              "['Within this milieu, Dr\\u202fB.\\u202fR.\\u202fAmbedkar \\nemerged as a prominent figure advocating not just independence but also social equity and constitutional rights for all citizens.',\n",
              " 'The extraction of sovereignty was the result of a prolonged freedom struggle, involving diverse efforts from nonviolent protest to political \\nnegotiation and was underpinned by the vision and determination of leaders from across India’s social spectrum.',\n",
              " 'Importantly, the \\nConstitution also defined Directive Principles of State Policy, affirming the necessity of socio-economic justice and welfare-oriented governance a vision\\ndeeply tied to the objectives of the independence struggle. \\n',\n",
              " 'Post independence, \\nhe was appointed the first Law Minister of India and chaired the Drafting Committee of the Constituent Assembly.',\n",
              " \"Drawing inspiration from Western constitutional models like the US Bill of Rights and Britain's \\nBill of Rights, the Constituent Assembly under Ambedkar ensured that civil liberties would stand at the heart of Indian democracy.\"]"
            ]
          },
          "execution_count": 37,
          "metadata": {},
          "output_type": "execute_result"
        }
      ],
      "source": [
        "## Now so that we have assigned number of questions, therefore we will pick the random sentences based on it\n",
        "random_sentences = random.sample(sentences, min(num_questions, len(sentences)))\n",
        "random_sentences"
      ]
    },
    {
      "cell_type": "code",
      "execution_count": null,
      "metadata": {
        "id": "Icki5v3L2EKi"
      },
      "outputs": [],
      "source": [
        "# Now we will create function\n",
        "def generate_mcq(text, num_questions=5):\n",
        "\n",
        "\n",
        "    doc = nlp(text)\n",
        "    sentences = [sent.text for sent in doc.sents]\n",
        "    sentences\n",
        "\n",
        "    ## Now we will pick random sentences\n",
        "    random_sentences = random.sample(sentences, min(num_questions, len(sentences)))\n",
        "    random_sentences\n",
        "\n",
        "    ## Now we will create mcq portion\n",
        "    mcq_data = []\n",
        "    for sentence in random_sentences:\n",
        "        sent_doc = nlp(sentence)\n",
        "\n",
        "        ## Now we will simplify sentence into words\n",
        "        noun = [token.text for token in sent_doc if token.pos_ == 'NOUN']\n",
        "\n",
        "        if len(noun) <2:\n",
        "          continue\n",
        "\n",
        "        noun_counts = Counter(noun)\n",
        "\n",
        "        ## Now we will get particular first word from the noun\n",
        "        first_noun = noun_counts.most_common(1)[0][0]\n",
        "        answer_choice = [first_noun]\n",
        "\n",
        "        ## Now we will create fill in the blanks\n",
        "        blank_sentence = sentence.replace(first_noun, '_____')\n",
        "\n",
        "\n",
        "        ## Now we will use distractor for other choices\n",
        "        distractors = list(set([n for n in noun if n != first_noun]))\n",
        "        if len(distractors) >= 3:\n",
        "            distractors = random.sample(distractors, 3)\n",
        "        else:\n",
        "            continue  # Skip if not enough distractors\n",
        "\n",
        "        answer_choice.extend(distractors)\n",
        "        random.shuffle(answer_choice)\n",
        "\n",
        "        ## Now we will print for correct answers\n",
        "        correct = chr(64 + answer_choice.index(first_noun) + 1)\n",
        "        mcq_data.append([blank_sentence, *answer_choice, correct])\n",
        "\n",
        "    return mcq_data"
      ]
    },
    {
      "cell_type": "code",
      "execution_count": null,
      "metadata": {
        "colab": {
          "base_uri": "https://localhost:8080/"
        },
        "id": "jPa_zexE3q12",
        "outputId": "8b02d890-1676-4aab-b7fd-4361b2beec28"
      },
      "outputs": [
        {
          "data": {
            "text/plain": [
              "['The old _____ tower stood proudly, marking time as it had for decades.',\n",
              " 'time',\n",
              " 'decades',\n",
              " 'tower',\n",
              " 'clock',\n",
              " 'D']"
            ]
          },
          "execution_count": 82,
          "metadata": {},
          "output_type": "execute_result"
        }
      ],
      "source": [
        "mcq_data"
      ]
    },
    {
      "cell_type": "code",
      "execution_count": null,
      "metadata": {
        "colab": {
          "base_uri": "https://localhost:8080/"
        },
        "id": "VgcbNXWkGb6v",
        "outputId": "bd7bfa98-c958-4d35-ddb4-b7eeb769b2c2"
      },
      "outputs": [
        {
          "name": "stdout",
          "output_type": "stream",
          "text": [
            "Que 1:_____ gathered near the tea stall, discussing crops, cricket, and curious rumors.\n",
            "A)rumors\n",
            "B)Locals\n",
            "C)stall\n",
            "D)tea\n",
            "Correct Answer: B\n",
            "===========================================================\n",
            "Que 2:_____ chased each other through narrow lanes, their laughter echoing off weathered walls.\n",
            "A)Children\n",
            "B)lanes\n",
            "C)walls\n",
            "D)laughter\n",
            "Correct Answer: A\n",
            "===========================================================\n",
            "Que 3:_____ chirped from ancient banyan trees, and the aroma of fresh bread wafted from a nearby bakery.\n",
            "A)aroma\n",
            "B)Birds\n",
            "C)bakery\n",
            "D)bread\n",
            "Correct Answer: B\n",
            "===========================================================\n",
            "Que 4:Despite the _____ of modern life elsewhere, this village remained timeless—a place where stories lived in every corner, and every face bore the warmth of belonging and quiet joy.\n",
            "\n",
            "A)warmth\n",
            "B)joy\n",
            "C)pace\n",
            "D)corner\n",
            "Correct Answer: C\n",
            "===========================================================\n",
            "Que 5:\n",
            "In the quiet _____ nestled between rolling hills, mornings began with the gentle hum of nature.\n",
            "A)nature\n",
            "B)hum\n",
            "C)village\n",
            "D)hills\n",
            "Correct Answer: C\n",
            "===========================================================\n",
            "Que 6:The old _____ tower stood proudly, marking time as it had for decades.\n",
            "A)time\n",
            "B)decades\n",
            "C)tower\n",
            "D)clock\n",
            "Correct Answer: D\n",
            "===========================================================\n"
          ]
        }
      ],
      "source": [
        "input = '''\n",
        "In the quiet village nestled between rolling hills, mornings began with the gentle hum of nature. Birds chirped from ancient banyan trees, and the aroma of fresh bread wafted from a nearby bakery. Children chased each other through narrow lanes, their laughter echoing off weathered walls. The old clock tower stood proudly, marking time as it had for decades. Locals gathered near the tea stall, discussing crops, cricket, and curious rumors. Despite the pace of modern life elsewhere, this village remained timeless—a place where stories lived in every corner, and every face bore the warmth of belonging and quiet joy.\n",
        "'''\n",
        "result = generate_mcq(input, num_questions=6)\n",
        "result\n",
        "\n",
        "## Now we will make mcq pattern more cleanly\n",
        "for i,mcq_data in enumerate(result):\n",
        "  question_stem, answer_choice, correct = mcq_data[0], mcq_data[1:-1], mcq_data[-1]\n",
        "  print(f\"Que {i+1}:{question_stem}\")\n",
        "  for j,choice in enumerate(answer_choice):\n",
        "    print(f\"{chr(65+j)}){choice}\")\n",
        "  print(f\"Correct Answer: {correct}\")\n",
        "  print(\"===========================================================\")"
      ]
    },
    {
      "cell_type": "code",
      "execution_count": null,
      "metadata": {
        "id": "wDxTR6cvHyEw"
      },
      "outputs": [],
      "source": [
        "## Now we will generate pickle file for this\n"
      ]
    }
  ],
  "metadata": {
    "colab": {
      "authorship_tag": "ABX9TyObsuOOmLpfwAZtrl38F7zd",
      "include_colab_link": true,
      "provenance": []
    },
    "kernelspec": {
      "display_name": "Python 3",
      "name": "python3"
    },
    "language_info": {
      "name": "python",
      "version": "3.12.3"
    }
  },
  "nbformat": 4,
  "nbformat_minor": 0
}
